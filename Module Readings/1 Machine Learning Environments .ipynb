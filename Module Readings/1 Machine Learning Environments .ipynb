{
 "cells": [
  {
   "cell_type": "raw",
   "metadata": {},
   "source": [
    "17.1.1 Create a Machine Learning Environment\n",
    "\n",
    "The lead data scientist, Jill, has asked you to create the same development environment that she is using. This step will help you run the code smoothly without conflicts."
   ]
  },
  {
   "cell_type": "raw",
   "metadata": {},
   "source": [
    "Your new virtual environment will use Python 3.7 and accompanying Anaconda packages. After creating the new virtual environment, you'll install the imbalanced-learn library in that environment."
   ]
  },
  {
   "cell_type": "raw",
   "metadata": {},
   "source": [
    "macOS Setup\n",
    "\n",
    "Before we create a new environment in macOS, we'll need to update the global conda environment:\n",
    "\n",
    "1. If your PythonData environment is activated when you launch the command line, deactivate the environment.\n",
    "To deactivate an active environment, type conda deactivate.\n",
    "\n",
    "2. Update the global conda environment by typing conda update conda and press Enter.\n",
    "\n",
    "3. After all the packages are collected, you'll see the prompt Proceed ([y]/n)?. Press the \"Y\" key (for \"yes\") and press Enter.\n",
    "\n",
    "4. In the command line, type conda create -n mlenv python=3.7 anaconda. The name of your new environment is mlenv.\n",
    "\n",
    "5. After all the packages are collected, you'll see the prompt Proceed ([y]/n)?. Press the \"Y\" key (for \"yes\") and press Enter.\n",
    "\n",
    "6. Activate your mlenv environment by typing conda activate mlenv and press Enter.\n",
    "\n"
   ]
  },
  {
   "cell_type": "raw",
   "metadata": {},
   "source": [
    "Check Dependencies for the imbalanced-learn Package\n",
    "Before we install the imbalanced-learn package, we need to confirm that all of the package dependencies are satisfied in our mlenv environment:\n",
    "\n",
    "NumPy, version 1.11 or later\n",
    "SciPy, version 0.17 or later\n",
    "Scikit-learn, version 0.21 or later\n",
    "\n",
    "What is one method you’d use to confirm you met the following three dependencies in your mlenv environment?\n",
    "- Type conda list and press Enter to check the version number of each dependency.\n",
    "\n",
    "On the command line, you can check all packages that begin with numpy, scipy, and scikit-learn when you type conda list | grep and press Enter. The grep command will search for patterns of the text numpy in our conda list. For example, when we type conda list | grep numpy and press Enter.\n",
    "\n",
    "\n",
    "As you can see, our numpy dependency meets the installation requirements for the imbalanced-learn package.\n",
    "\n",
    "Additionally, you can type python followed by the command argument -c, and then \"import `package_name`;print(`package_name`.__version__)\" to verify which version of a package is installed in an environment, where `package_name` is the name of the package you want to verify.\n",
    "\n",
    "Type python -c \"import numpy ;print(numpy.__version__)\" and then press Enter to see the version of numpy in your mlenv environment."
   ]
  },
  {
   "cell_type": "raw",
   "metadata": {},
   "source": [
    "By updating our global conda environment, the numpy, scipy, and scikit-learn dependencies should meet the requirements for installing the imbalanced-learn package.\n",
    "\n",
    "If you encounter an error while starting Jupyter Notebook, you may need to install the environment_kernels module with pip install environment_kernels\n",
    "\n"
   ]
  },
  {
   "cell_type": "raw",
   "metadata": {},
   "source": [
    "Install the imbalanced-learn Package\n",
    "\n",
    "Now that our dependencies have been met, we can install the imbalanced-learn package in our mlenv environment.\n",
    "\n",
    "With the mlenv environment activated, either in the Terminal in macOS or in the Anaconda Prompt (mlenv) in Windows, type the following:\n",
    "\n",
    "conda install -c conda-forge imbalanced-learn\n",
    "\n",
    "Then press Enter.\n",
    "\n",
    "After all the packages are collected, you'll see the prompt Proceed ([y]/n)?. Press the \"Y\" key (for \"yes\") and press Enter.\n",
    "\n",
    "How would you verify that the imbalanced-learn package has been installed in your mlenv environment? The following command should be followed by:\n",
    "conda list | grep imbalanced learn"
   ]
  },
  {
   "cell_type": "raw",
   "metadata": {},
   "source": [
    "Add the Machine Learning Environment to Jupyter Notebook\n",
    "\n",
    "To use the mlenv environment we just created in the Jupyter Notebook, we need to add it to the kernels. In the command line, type python -m ipykernel install --user --name mlenv and press Enter.\n",
    "\n",
    "The command python -m ipykernel install --user --name mlenv tells Python to use the IPython kernel to install the mlenv environment in the Jupyter kernels. A kernel is a computer program that runs and examines the Python code. A kernel interfaces between the application and your computer memory.\n",
    "\n",
    "To check if the mlenv is installed, launch the Jupyter Notebook and click the \"New\" dropdown menu:\n",
    "\n"
   ]
  },
  {
   "cell_type": "raw",
   "metadata": {},
   "source": []
  }
 ],
 "metadata": {
  "kernelspec": {
   "display_name": "PythonData",
   "language": "python",
   "name": "pythondata"
  },
  "language_info": {
   "codemirror_mode": {
    "name": "ipython",
    "version": 3
   },
   "file_extension": ".py",
   "mimetype": "text/x-python",
   "name": "python",
   "nbconvert_exporter": "python",
   "pygments_lexer": "ipython3",
   "version": "3.7.7"
  }
 },
 "nbformat": 4,
 "nbformat_minor": 4
}
