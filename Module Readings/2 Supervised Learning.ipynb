{
 "cells": [
  {
   "cell_type": "raw",
   "metadata": {},
   "source": [
    "17.2.1 Overview of Machine Learning\n",
    "\n",
    "Machine learning is the use of statistical algorithms to perform tasks such as learning from data patterns and making predictions. T\n",
    "\n",
    "here are many different models—a model is a mathematical representation of something that happens in the real world—and you'll learn about several this week.\n",
    "\n",
    "Broadly speaking, machine learning can be divided into three learning categories: supervised, unsupervised, and deep. For our purposes, we'll only discuss supervised and unsupervised learning."
   ]
  },
  {
   "cell_type": "raw",
   "metadata": {},
   "source": [
    "Supervised Learning\n",
    "\n",
    "Supervised learning deals with labeled data. An example of supervised learning might be to predict, based on data from previous patients, whether a new patient has diabetes.\n",
    "\n",
    "Patient ID\tAge\t    Body Mass Index\t     Has Diabetes\n",
    "1\t         31\t          24\t               No\n",
    "2\t         68\t          39\t               Yes\n",
    "3\t         57\t          35\t                ?\n",
    "\n",
    "In the simplified example above, we know whether or not the first two patients have diabetes. That is, the dataset is labeled. Each row represents a patient, and the \"Has Diabetes\" column is the label that informs whether or not the patient has diabetes. The status of the third patient is unknown, and based on this patient's age and BMI, the goal is to predict whether or not this person is diabetic.\n",
    "\n"
   ]
  },
  {
   "cell_type": "raw",
   "metadata": {},
   "source": [
    "Unsupervised Learning\n",
    "\n",
    "In unsupervised learning, by contrast, machine learning algorithms work with datasets without labeled outcomes. In supervised learning, the labels provide the correct answers. \n",
    "\n",
    "In unsupervised learning, such correct answers, or labels, aren't provided. An example of unsupervised learning might be to task a machine learning algorithm with grouping a bag of objects as it sees fit. \n",
    "\n",
    "The algorithm isn't given labels, so it's on its own to find patterns. In this case, it might group them based on shapes, colors, or perhaps both:\n",
    "\n",
    "A common application of unsupervised learning is to group customers by purchasing patterns.\n",
    "\n",
    "You'll learn more about unsupervised learning in the next module."
   ]
  },
  {
   "cell_type": "raw",
   "metadata": {},
   "source": [
    "17.2.2 Supervised Learning: Regression and Classification\n",
    "\n",
    "Supervised learning can be broadly divided into regression and classification. In this module, we will focus mainly on using supervised machine learning for classification:\n",
    "\n"
   ]
  },
  {
   "cell_type": "raw",
   "metadata": {},
   "source": [
    "Regression\n",
    "\n",
    "Recall that regression is used to predict continuous variables. For example, let's say that we're interested in predicting a person's weight based on factors like height, dietary preferences, and exercise patterns. To accomplish this task, we would collect data on a number of people. \n",
    "\n",
    "The regression model's algorithms would attempt to learn patterns that exist among these factors. If presented with the data of a new person, the model would make a prediction of that person's weight, based on previously learned patterns from the dataset.\n",
    "\n"
   ]
  },
  {
   "cell_type": "raw",
   "metadata": {},
   "source": [
    "Classification\n",
    "\n",
    "Classification, on the other hand, is used to predict discrete outcomes. For example. Let's say that we are interested in using a person's traits, such as age, sex, income, and geographic location, to predict how she or he will vote on a particular issue. \n",
    "\n",
    "The outcome, in this case, is whether the person will vote \"Yes\" or \"No.\" The classification model's algorithms would attempt to learn patterns from the data, and if the model is successful, gain the ability to make accurate predictions for new voters."
   ]
  },
  {
   "cell_type": "raw",
   "metadata": {},
   "source": [
    "Regression vs. Classification\n",
    "\n",
    "There is a major difference between regression and classification models. In our regression example, the target variable, or what we're trying to predict, is weight.\n",
    "\n",
    "Weight is a continuous variable—a person's weight can be any numerical value within a certain range. In our classification example, on the other hand, the target variable only has two possible values; whether a person votes \"Yes\" or \"No.\" \n",
    "\n",
    "When the classification model encounters new data, it would attempt to predict whether the votes cast by people will be \"Yes\" or \"No.\"\n",
    "\n"
   ]
  },
  {
   "cell_type": "raw",
   "metadata": {},
   "source": [
    "In both classification and regression problems, a dataset is divided into features and target.\n",
    "\n",
    "Features are the variables used to make a prediction. Target is the predicted outcome.\n",
    "\n",
    "You want to create an algorithm that can read the text of an email and determine whether it is spam or not. Would you use a regression or a classification model?\n",
    "\n",
    "Classification\n",
    "\n",
    "Based on factors like the number of a customer’s previous purchases, as well as demographics, an online retailer would like to predict how much the customer will spend in the next 12 months. Would a regression or a classification model be more appropriate?\n",
    "\n",
    "Regression\n"
   ]
  },
  {
   "cell_type": "raw",
   "metadata": {},
   "source": [
    "In the examples above, we saw a basic pattern:\n",
    "\n",
    "- A machine learning model is presented with a dataset.\n",
    "\n",
    "- The model algorithms analyze the data and attempt to identify patterns.\n",
    "\n",
    "- Based on these patterns, the model makes predictions on new data.\n",
    "\n",
    "This pattern applies whether we're using regression or classification. Let's look at an example of creating and using a machine learning model."
   ]
  },
  {
   "cell_type": "raw",
   "metadata": {},
   "source": [
    "17.2.3 Linear Regression Example\n",
    "\n",
    "Jill is impressed with your clear explanation of the two main uses of supervised learning: regression and classification. She would like you to now learn how to implement a machine learning model in Python. You will use Scikit-learn, a Python machine learning library. Since you are already familiar with using linear regression, Jill suggests that you implement a linear regression model with Scikit-learn."
   ]
  },
  {
   "cell_type": "raw",
   "metadata": {},
   "source": [
    "To get started, download the CSV file with salary data.\n",
    "\n",
    "As we go through the following example, you'll learn the basic procedure for implementing a supervised learning model: create a model, train the model, and then create predictions.\n",
    "\n",
    "Create a directory named \"linear_regression_salary.\" In this directory, create another directory called \"Resources,\" into which you'll copy the CSV file that you downloaded:\n",
    "\n",
    "Navigate to the directory and start the Jupyter Notebook.\n",
    "\n",
    "Create a new notebook, and be sure to select the mlenv kernel for the notebook:\n",
    "\n"
   ]
  },
  {
   "cell_type": "raw",
   "metadata": {},
   "source": [
    "Paste the following code into the first cell and run it. (Each code block from this point on will be a separate cell in your notebook.)\n",
    "\n",
    "import pandas as pd\n",
    "from pathlib import Path\n",
    "import matplotlib.pyplot as plt\n",
    "from sklearn.linear_model import LinearRegression\n",
    "\n",
    "sklearn is the Scikit-learn machine learning library for Python. It has many modules, including one for linear regression, which we use here.\n",
    "\n"
   ]
  },
  {
   "cell_type": "raw",
   "metadata": {},
   "source": [
    "In the next cell, load the CSV file as a Pandas DataFrame and preview the DataFrame:\n",
    "\n",
    "df = pd.read_csv(Path('./Resources/Salary_Data.csv'))\n",
    "df.head()\n",
    "\n",
    "Use the Path library to locate the data file. Its use is not required, but it does make it easier to identify the file path whether you use a Mac or a Windows machine.\n",
    "\n",
    "Each row in the DataFrame represents an employee and has two columns containing that employee's years of work experience and salary.\n",
    "\n",
    "The target variable is Salary, meaning that the goal of the linear regression model is to predict a person's salary based on years of work experience."
   ]
  },
  {
   "cell_type": "raw",
   "metadata": {},
   "source": [
    "First, let's visually inspect the relationship between Years of Experience and Salary:\n",
    "\n",
    "plt.scatter(df.YearsExperience, df.Salary)\n",
    "plt.xlabel('Years of Experience')\n",
    "plt.ylabel('Salary in USD')\n",
    "plt.show()\n",
    "\n",
    "What is the relationship between the two variables, salary and experience?\n",
    "There is a strong relationship between the two variables, where the salary increases as the amount of experience increases. "
   ]
  },
  {
   "cell_type": "raw",
   "metadata": {},
   "source": [
    "However, we want to do better than merely establish that there's a relationship. We want to use the available data to make the most accurate predictions possible.\n",
    "\n",
    "The next line of code formats the data to meet the requirements of the Scikit-learn library:\n",
    "\n",
    "X = df.YearsExperience.values.reshape(-1, 1)"
   ]
  },
  {
   "cell_type": "raw",
   "metadata": {},
   "source": [
    "In the scatter plot, the YearsExperience was placed on the x-axis. Conventionally, the independent variable is placed on the x-axis, and the dependent variable is placed on the y-axis. The years of experience is the independent variable here because we assume that employee salary depends on the years of experience."
   ]
  },
  {
   "cell_type": "raw",
   "metadata": {},
   "source": [
    "The values from the YearsExperience column are modified by the reshape() method. This method allows data needs to be formatted, or shaped, to follow Scikit-learn's specifications as follows:\n",
    "\n",
    "- The first argument of reshape() specifies the number of rows. Here, the argument is -1, and means that the number of rows is unspecified. Accordingly, the NumPy library will automatically identify the number of rows in the dataset.\n",
    "\n",
    "- The second argument of reshape() refers to the number of columns. Here, the argument is 1, meaning that there is only one column of independent variables.\n",
    "\n",
    "When we examine the first five entries in X, we see that the output is a two-dimensional NumPy array:\n",
    "\n",
    "X[:5]"
   ]
  },
  {
   "cell_type": "raw",
   "metadata": {},
   "source": [
    "When we examine the shape of X, we see that there are 30 rows and 1 column:\n",
    "\n",
    "X.shape\n",
    "\n",
    "Using a dataset with an incorrect shape, or formatting, can cause errors in Scikit-learn. Remember that you may have to use reshape() to format your data properly."
   ]
  },
  {
   "cell_type": "raw",
   "metadata": {},
   "source": [
    "Next, we assign the target variable, or the Salary column, to y. Although it's possible to reshape this column, as we did with X, it's not required in this instance:\n",
    "\n",
    "y = df.Salary\n",
    "\n",
    "To summarize, the dataset has been separated into X and y components: X is the input data, and y is the output. You also may have noticed that X is capitalized, while y is not. Although you aren't required to stick to this convention, it's a common practice when using Scikit-learn.\n",
    "\n"
   ]
  },
  {
   "cell_type": "raw",
   "metadata": {},
   "source": [
    "The next step is to create an instance of the linear regression model. An object is instantiated, or created, from sklearn.linear_model's LinearRegression class. \n",
    "\n",
    "Instantiation here means that the LinearRegression class is like a template that contains the algorithms required to perform linear regression. From this template, a specific object called model is created that will analyze the data and store information specific to this dataset:\n",
    "\n",
    "model = LinearRegression()"
   ]
  },
  {
   "cell_type": "raw",
   "metadata": {},
   "source": [
    "After a model is instantiated, it will analyze the data and attempt to learn patterns in the data. This learning stage is alternatively called fitting or training:\n",
    "\n",
    "model.fit(X, y)"
   ]
  },
  {
   "cell_type": "raw",
   "metadata": {},
   "source": [
    "After the learning stage, the predict() method is used to generate predictions: given any number of a person's years of experience, the model will predict the salary:\n",
    "\n",
    "y_pred = model.predict(X)\n",
    "print(y_pred.shape)\n",
    "\n",
    "Printing the shape of y_pred returns (30,). \n",
    "\n",
    "Recall that a linear regression model generates a straight line that best fits the overall trend of the data. Based on the 30 available data points in X, model.predict(X) returned 30 predictions through which a straight line can be drawn."
   ]
  },
  {
   "cell_type": "raw",
   "metadata": {},
   "source": [
    "Furthermore, the model can make predictions for years of experience beyond the range in the current data. Let's plot the predictions as a red line against the data points:\n",
    "\n",
    "plt.scatter(X, y)\n",
    "plt.plot(X, y_pred, color='red')\n",
    "plt.show()\n",
    "\n",
    "The best fit line is in red, drawn through the predictions. The maximum value of years of experience in the current dataset is 10.5, but the linear regression model can extrapolate beyond it. That is, if given 12 years of experience, it will be able to guess the associated salary level."
   ]
  },
  {
   "cell_type": "raw",
   "metadata": {},
   "source": [
    "Finally, we can examine the specific parameters of our model: the slope and the y-intercept. The slope is represented by model.coef_, and model.intercept_ is the y-intercept:\n",
    "\n",
    "print(model.coef_)\n",
    "print(model.intercept_)\n"
   ]
  },
  {
   "cell_type": "raw",
   "metadata": {},
   "source": [
    "NOTE \n",
    "We use the Scikit-learn fit method for the linear regression model to learn the patterns of the data."
   ]
  },
  {
   "cell_type": "raw",
   "metadata": {},
   "source": [
    "Let's summarize the basic pattern for supervised learning we used in this linear regression example:\n",
    "\n",
    "1. Split the data into input (X) and output (y).\n",
    "\n",
    "2. Create an instance of the model with model = LinearRegression().\n",
    "\n",
    "3. Train the model with the dataset with model.fit(X,y).\n",
    "\n",
    "4. Create predictions with y_pred = model.predict(X).\n",
    "\n",
    "You'll encounter this pattern repeatedly in machine learning, and you'll expand on it to perform additional tasks, such as evaluating how well your model performs."
   ]
  },
  {
   "cell_type": "raw",
   "metadata": {},
   "source": [
    "CREATE A MACHINE LEARNING MODEL\n",
    "\n",
    "1. Import your _____\n",
    "\n",
    "from path import Path\n",
    "import pandas as pd\n",
    "\n",
    "2. Collect and clean your data set. \n",
    "\n",
    "data = Path('../Resources/filename.csv)\n",
    "df = pd.read_csv(file name)\n",
    "\n",
    "3. Which variable are you trying to predict? Determine your 'x' independent and 'y' dependent variables. \n",
    "\n",
    "4. Split your variables\n",
    "\n",
    "y = df[\"column name\"]\n",
    "x = df.drop[columns=\"column name) \n",
    "\n",
    "5. After variables determined, you will split them into a training set and a test set. \n",
    "\n",
    "from sklearn.model_selection import train_test_split\n",
    "\n",
    "x_train, X_test, y_train, y_trest = train_test_split(x, \n",
    "                                                     y,\n",
    "                                                     random_state=1,\n",
    "                                                     stratify-y)\n",
    "                                                     \n",
    "x_train.shape\n",
    "\n",
    "6. After splitting data, you will initialize and train your data using x_train and y_train. \n",
    "\n",
    "from sklearn.linear_model import LogisticRegression\n",
    "classifier = LogisticRegression(solver='lbfgs',\n",
    "                                max_iter=200,\n",
    "                                random_state=1)\n",
    "                                \n",
    "classifier.fit(X_train, y_train)\n",
    "\n",
    "7. When your model is finished training, we will test it by calling the predict method and giving it the x_test arguement as a variable. The model will return it's predictions, which will be compared to the actual results of the y_test sets. \n",
    "\n",
    "y_pred = classifier.predict(X_test)\n",
    "results = pd.Dataframe({\"Prediction\": y_pred, \"Actual\": y_test}).rest_index(drop=True)\n",
    "results.head(20)\n",
    "\n",
    "8. We assess the performance of the model with the results. \n",
    "\n",
    "from sklearn.metrics import accuracy_score\n",
    "print(accuracy_score(y_test, y_pred))"
   ]
  },
  {
   "cell_type": "code",
   "execution_count": null,
   "metadata": {},
   "outputs": [],
   "source": []
  }
 ],
 "metadata": {
  "kernelspec": {
   "display_name": "mlenv",
   "language": "python",
   "name": "mlenv"
  },
  "language_info": {
   "codemirror_mode": {
    "name": "ipython",
    "version": 3
   },
   "file_extension": ".py",
   "mimetype": "text/x-python",
   "name": "python",
   "nbconvert_exporter": "python",
   "pygments_lexer": "ipython3",
   "version": "3.7.9"
  }
 },
 "nbformat": 4,
 "nbformat_minor": 4
}
